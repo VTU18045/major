{
  "nbformat": 4,
  "nbformat_minor": 0,
  "metadata": {
    "colab": {
      "provenance": []
    },
    "kernelspec": {
      "name": "python3",
      "display_name": "Python 3"
    },
    "language_info": {
      "name": "python"
    }
  },
  "cells": [
    {
      "cell_type": "code",
      "source": [
        "# Step 1: Import necessary libraries\n",
        "import numpy as np\n",
        "import pandas as pd\n",
        "import matplotlib.pyplot as plt\n",
        "from sklearn.model_selection import train_test_split\n",
        "from sklearn.svm import SVC\n",
        "from sklearn.metrics import accuracy_score, classification_report, confusion_matrix\n",
        "from tensorflow import keras\n",
        "from tensorflow.keras.models import Sequential\n",
        "from tensorflow.keras.layers import Dense, Conv2D, MaxPooling2D, Flatten\n",
        "from tensorflow.keras.layers import LSTM, Dense\n",
        "from sklearn.model_selection import train_test_split\n",
        "from sklearn.ensemble import RandomForestClassifier\n",
        "import tensorflow as tf\n",
        "import seaborn as sns\n",
        "from sklearn.preprocessing import StandardScaler\n",
        "from sklearn.tree import DecisionTreeClassifier\n",
        "from sklearn.linear_model import LogisticRegression\n",
        "from sklearn.neighbors import KNeighborsClassifier\n",
        "from sklearn.metrics import classification_report\n",
        "from sklearn.metrics import confusion_matrix\n",
        "from keras.models import Sequential\n",
        "from keras.layers import Dense"
      ],
      "metadata": {
        "id": "TNdKOYRjNR3j"
      },
      "execution_count": 40,
      "outputs": []
    },
    {
      "cell_type": "code",
      "source": [
        "# Load the dataset\n",
        "# Assuming you have a CSV file named 'company_strategies.csv' with historical data\n",
        "data = pd.read_csv('Travel_Pin_Dataset.csv')\n",
        "print(data)"
      ],
      "metadata": {
        "colab": {
          "base_uri": "https://localhost:8080/"
        },
        "id": "ZlNMio91NnEN",
        "outputId": "5fad4b2f-9e2c-4f5e-ff51-e5cfd78a2a25"
      },
      "execution_count": 41,
      "outputs": [
        {
          "output_type": "stream",
          "name": "stdout",
          "text": [
            "       Ticket_ID Travel_Type  Ticket_Price  Time  Distance       Agency  \\\n",
            "0              1  firstClass       1434.38  1.76    676.53  FlyingDrops   \n",
            "1              2  firstClass       1292.29  1.76    676.53  FlyingDrops   \n",
            "2              3  firstClass       1487.52  1.66    637.56      CloudFy   \n",
            "3              4  firstClass       1127.36  1.66    637.56      CloudFy   \n",
            "4              5  firstClass       1684.05  2.16    830.86      CloudFy   \n",
            "...          ...         ...           ...   ...       ...          ...   \n",
            "52249      52252     premium        875.41  1.44    555.74      Rainbow   \n",
            "52250      52253    economic        889.07  1.66    637.56      Rainbow   \n",
            "52251      52254    economic        555.01  1.66    637.56      Rainbow   \n",
            "52252      52255    economic        583.60  0.72    277.70      CloudFy   \n",
            "52253      52256    economic        506.56  0.72    277.70      CloudFy   \n",
            "\n",
            "      Flight_Type Ch_code  Travel_Ticket_Pin_ID  Travel_ModePrice  ...    PCS  \\\n",
            "0           Spice      SG                   466             94107  ...      1   \n",
            "1           Spice      SG                   457             94114  ...      1   \n",
            "2         AirAsia      I5                   424               432  ...      1   \n",
            "3         Vistara      UK                   395             94103  ...      1   \n",
            "4         Vistara      UK                   408             94612  ...      1   \n",
            "...           ...     ...                   ...               ...  ...    ...   \n",
            "52249     AirAsia      I5                 90090            145271  ...  15358   \n",
            "52250     AirAsia      I5                 90091            145272  ...  15359   \n",
            "52251     AirAsia      I5                 90092            145273  ...  15360   \n",
            "52252     AirAsia      I5                 90093            145274  ...  15361   \n",
            "52253     AirAsia      I5                 90094            145275  ...  15362   \n",
            "\n",
            "            Ticket_OrderID  Ticket_PNR  Total_Tickets  currency  Amount  \\\n",
            "0      405-8078784-5731545  B09KXVBD7Z            0.0       INR   648.0   \n",
            "1      171-9198151-1101146  B09K3WFS32            1.0       INR   406.0   \n",
            "2      404-0687676-7273146  B07WV4JV4D            1.0       INR   329.0   \n",
            "3      403-9615377-8133951  B099NRCT7B            0.0       INR   753.0   \n",
            "4      407-1069790-7240320  B098714BZP            1.0       INR   574.0   \n",
            "...                    ...         ...            ...       ...     ...   \n",
            "52249  403-9276350-0569905  B09YYRG28X            1.0       INR   625.0   \n",
            "52250  408-1582679-3062707  B08ZHZWF2N            1.0       INR     0.0   \n",
            "52251  404-2520359-3280308  B099FCVXXD            1.0       INR   301.0   \n",
            "52252  407-7800701-7784323  B09K3T3BV4            1.0       INR  1099.0   \n",
            "52253       407-7927422-61         NaN            NaN       NaN     NaN   \n",
            "\n",
            "      Passenger_Pickup  Destination Postel_Code  Pin_Availability  \n",
            "0               MUMBAI  MAHARASHTRA    400081.0             False  \n",
            "1            BENGALURU    KARNATAKA    560085.0             False  \n",
            "2          NAVI MUMBAI  MAHARASHTRA    410210.0              True  \n",
            "3           PUDUCHERRY   PUDUCHERRY    605008.0             False  \n",
            "4              CHENNAI   TAMIL NADU    600073.0             False  \n",
            "...                ...          ...         ...               ...  \n",
            "52249         GUWAHATI        ASSAM    781006.0             False  \n",
            "52250      Bahadurgarh      HARYANA    124507.0             False  \n",
            "52251         TUMAKURU    KARNATAKA    572102.0             False  \n",
            "52252          CUTTACK       ODISHA    754032.0             False  \n",
            "52253              NaN          NaN         NaN               NaN  \n",
            "\n",
            "[52254 rows x 26 columns]\n"
          ]
        },
        {
          "output_type": "stream",
          "name": "stderr",
          "text": [
            "<ipython-input-41-044eb38fa989>:3: DtypeWarning: Columns (16,25) have mixed types. Specify dtype option on import or set low_memory=False.\n",
            "  data = pd.read_csv('Travel_Pin_Dataset.csv')\n"
          ]
        }
      ]
    },
    {
      "cell_type": "code",
      "source": [
        "print(data.head)\n",
        "print(data.tail)\n",
        "print(data.describe)"
      ],
      "metadata": {
        "colab": {
          "base_uri": "https://localhost:8080/"
        },
        "id": "pIm0aBDQh2cl",
        "outputId": "b198c8c0-683f-44ae-ed35-ede2873030bf"
      },
      "execution_count": 42,
      "outputs": [
        {
          "output_type": "stream",
          "name": "stdout",
          "text": [
            "<bound method NDFrame.head of        Ticket_ID Travel_Type  Ticket_Price  Time  Distance       Agency  \\\n",
            "0              1  firstClass       1434.38  1.76    676.53  FlyingDrops   \n",
            "1              2  firstClass       1292.29  1.76    676.53  FlyingDrops   \n",
            "2              3  firstClass       1487.52  1.66    637.56      CloudFy   \n",
            "3              4  firstClass       1127.36  1.66    637.56      CloudFy   \n",
            "4              5  firstClass       1684.05  2.16    830.86      CloudFy   \n",
            "...          ...         ...           ...   ...       ...          ...   \n",
            "52249      52252     premium        875.41  1.44    555.74      Rainbow   \n",
            "52250      52253    economic        889.07  1.66    637.56      Rainbow   \n",
            "52251      52254    economic        555.01  1.66    637.56      Rainbow   \n",
            "52252      52255    economic        583.60  0.72    277.70      CloudFy   \n",
            "52253      52256    economic        506.56  0.72    277.70      CloudFy   \n",
            "\n",
            "      Flight_Type Ch_code  Travel_Ticket_Pin_ID  Travel_ModePrice  ...    PCS  \\\n",
            "0           Spice      SG                   466             94107  ...      1   \n",
            "1           Spice      SG                   457             94114  ...      1   \n",
            "2         AirAsia      I5                   424               432  ...      1   \n",
            "3         Vistara      UK                   395             94103  ...      1   \n",
            "4         Vistara      UK                   408             94612  ...      1   \n",
            "...           ...     ...                   ...               ...  ...    ...   \n",
            "52249     AirAsia      I5                 90090            145271  ...  15358   \n",
            "52250     AirAsia      I5                 90091            145272  ...  15359   \n",
            "52251     AirAsia      I5                 90092            145273  ...  15360   \n",
            "52252     AirAsia      I5                 90093            145274  ...  15361   \n",
            "52253     AirAsia      I5                 90094            145275  ...  15362   \n",
            "\n",
            "            Ticket_OrderID  Ticket_PNR  Total_Tickets  currency  Amount  \\\n",
            "0      405-8078784-5731545  B09KXVBD7Z            0.0       INR   648.0   \n",
            "1      171-9198151-1101146  B09K3WFS32            1.0       INR   406.0   \n",
            "2      404-0687676-7273146  B07WV4JV4D            1.0       INR   329.0   \n",
            "3      403-9615377-8133951  B099NRCT7B            0.0       INR   753.0   \n",
            "4      407-1069790-7240320  B098714BZP            1.0       INR   574.0   \n",
            "...                    ...         ...            ...       ...     ...   \n",
            "52249  403-9276350-0569905  B09YYRG28X            1.0       INR   625.0   \n",
            "52250  408-1582679-3062707  B08ZHZWF2N            1.0       INR     0.0   \n",
            "52251  404-2520359-3280308  B099FCVXXD            1.0       INR   301.0   \n",
            "52252  407-7800701-7784323  B09K3T3BV4            1.0       INR  1099.0   \n",
            "52253       407-7927422-61         NaN            NaN       NaN     NaN   \n",
            "\n",
            "      Passenger_Pickup  Destination Postel_Code  Pin_Availability  \n",
            "0               MUMBAI  MAHARASHTRA    400081.0             False  \n",
            "1            BENGALURU    KARNATAKA    560085.0             False  \n",
            "2          NAVI MUMBAI  MAHARASHTRA    410210.0              True  \n",
            "3           PUDUCHERRY   PUDUCHERRY    605008.0             False  \n",
            "4              CHENNAI   TAMIL NADU    600073.0             False  \n",
            "...                ...          ...         ...               ...  \n",
            "52249         GUWAHATI        ASSAM    781006.0             False  \n",
            "52250      Bahadurgarh      HARYANA    124507.0             False  \n",
            "52251         TUMAKURU    KARNATAKA    572102.0             False  \n",
            "52252          CUTTACK       ODISHA    754032.0             False  \n",
            "52253              NaN          NaN         NaN               NaN  \n",
            "\n",
            "[52254 rows x 26 columns]>\n",
            "<bound method NDFrame.tail of        Ticket_ID Travel_Type  Ticket_Price  Time  Distance       Agency  \\\n",
            "0              1  firstClass       1434.38  1.76    676.53  FlyingDrops   \n",
            "1              2  firstClass       1292.29  1.76    676.53  FlyingDrops   \n",
            "2              3  firstClass       1487.52  1.66    637.56      CloudFy   \n",
            "3              4  firstClass       1127.36  1.66    637.56      CloudFy   \n",
            "4              5  firstClass       1684.05  2.16    830.86      CloudFy   \n",
            "...          ...         ...           ...   ...       ...          ...   \n",
            "52249      52252     premium        875.41  1.44    555.74      Rainbow   \n",
            "52250      52253    economic        889.07  1.66    637.56      Rainbow   \n",
            "52251      52254    economic        555.01  1.66    637.56      Rainbow   \n",
            "52252      52255    economic        583.60  0.72    277.70      CloudFy   \n",
            "52253      52256    economic        506.56  0.72    277.70      CloudFy   \n",
            "\n",
            "      Flight_Type Ch_code  Travel_Ticket_Pin_ID  Travel_ModePrice  ...    PCS  \\\n",
            "0           Spice      SG                   466             94107  ...      1   \n",
            "1           Spice      SG                   457             94114  ...      1   \n",
            "2         AirAsia      I5                   424               432  ...      1   \n",
            "3         Vistara      UK                   395             94103  ...      1   \n",
            "4         Vistara      UK                   408             94612  ...      1   \n",
            "...           ...     ...                   ...               ...  ...    ...   \n",
            "52249     AirAsia      I5                 90090            145271  ...  15358   \n",
            "52250     AirAsia      I5                 90091            145272  ...  15359   \n",
            "52251     AirAsia      I5                 90092            145273  ...  15360   \n",
            "52252     AirAsia      I5                 90093            145274  ...  15361   \n",
            "52253     AirAsia      I5                 90094            145275  ...  15362   \n",
            "\n",
            "            Ticket_OrderID  Ticket_PNR  Total_Tickets  currency  Amount  \\\n",
            "0      405-8078784-5731545  B09KXVBD7Z            0.0       INR   648.0   \n",
            "1      171-9198151-1101146  B09K3WFS32            1.0       INR   406.0   \n",
            "2      404-0687676-7273146  B07WV4JV4D            1.0       INR   329.0   \n",
            "3      403-9615377-8133951  B099NRCT7B            0.0       INR   753.0   \n",
            "4      407-1069790-7240320  B098714BZP            1.0       INR   574.0   \n",
            "...                    ...         ...            ...       ...     ...   \n",
            "52249  403-9276350-0569905  B09YYRG28X            1.0       INR   625.0   \n",
            "52250  408-1582679-3062707  B08ZHZWF2N            1.0       INR     0.0   \n",
            "52251  404-2520359-3280308  B099FCVXXD            1.0       INR   301.0   \n",
            "52252  407-7800701-7784323  B09K3T3BV4            1.0       INR  1099.0   \n",
            "52253       407-7927422-61         NaN            NaN       NaN     NaN   \n",
            "\n",
            "      Passenger_Pickup  Destination Postel_Code  Pin_Availability  \n",
            "0               MUMBAI  MAHARASHTRA    400081.0             False  \n",
            "1            BENGALURU    KARNATAKA    560085.0             False  \n",
            "2          NAVI MUMBAI  MAHARASHTRA    410210.0              True  \n",
            "3           PUDUCHERRY   PUDUCHERRY    605008.0             False  \n",
            "4              CHENNAI   TAMIL NADU    600073.0             False  \n",
            "...                ...          ...         ...               ...  \n",
            "52249         GUWAHATI        ASSAM    781006.0             False  \n",
            "52250      Bahadurgarh      HARYANA    124507.0             False  \n",
            "52251         TUMAKURU    KARNATAKA    572102.0             False  \n",
            "52252          CUTTACK       ODISHA    754032.0             False  \n",
            "52253              NaN          NaN         NaN               NaN  \n",
            "\n",
            "[52254 rows x 26 columns]>\n",
            "<bound method NDFrame.describe of        Ticket_ID Travel_Type  Ticket_Price  Time  Distance       Agency  \\\n",
            "0              1  firstClass       1434.38  1.76    676.53  FlyingDrops   \n",
            "1              2  firstClass       1292.29  1.76    676.53  FlyingDrops   \n",
            "2              3  firstClass       1487.52  1.66    637.56      CloudFy   \n",
            "3              4  firstClass       1127.36  1.66    637.56      CloudFy   \n",
            "4              5  firstClass       1684.05  2.16    830.86      CloudFy   \n",
            "...          ...         ...           ...   ...       ...          ...   \n",
            "52249      52252     premium        875.41  1.44    555.74      Rainbow   \n",
            "52250      52253    economic        889.07  1.66    637.56      Rainbow   \n",
            "52251      52254    economic        555.01  1.66    637.56      Rainbow   \n",
            "52252      52255    economic        583.60  0.72    277.70      CloudFy   \n",
            "52253      52256    economic        506.56  0.72    277.70      CloudFy   \n",
            "\n",
            "      Flight_Type Ch_code  Travel_Ticket_Pin_ID  Travel_ModePrice  ...    PCS  \\\n",
            "0           Spice      SG                   466             94107  ...      1   \n",
            "1           Spice      SG                   457             94114  ...      1   \n",
            "2         AirAsia      I5                   424               432  ...      1   \n",
            "3         Vistara      UK                   395             94103  ...      1   \n",
            "4         Vistara      UK                   408             94612  ...      1   \n",
            "...           ...     ...                   ...               ...  ...    ...   \n",
            "52249     AirAsia      I5                 90090            145271  ...  15358   \n",
            "52250     AirAsia      I5                 90091            145272  ...  15359   \n",
            "52251     AirAsia      I5                 90092            145273  ...  15360   \n",
            "52252     AirAsia      I5                 90093            145274  ...  15361   \n",
            "52253     AirAsia      I5                 90094            145275  ...  15362   \n",
            "\n",
            "            Ticket_OrderID  Ticket_PNR  Total_Tickets  currency  Amount  \\\n",
            "0      405-8078784-5731545  B09KXVBD7Z            0.0       INR   648.0   \n",
            "1      171-9198151-1101146  B09K3WFS32            1.0       INR   406.0   \n",
            "2      404-0687676-7273146  B07WV4JV4D            1.0       INR   329.0   \n",
            "3      403-9615377-8133951  B099NRCT7B            0.0       INR   753.0   \n",
            "4      407-1069790-7240320  B098714BZP            1.0       INR   574.0   \n",
            "...                    ...         ...            ...       ...     ...   \n",
            "52249  403-9276350-0569905  B09YYRG28X            1.0       INR   625.0   \n",
            "52250  408-1582679-3062707  B08ZHZWF2N            1.0       INR     0.0   \n",
            "52251  404-2520359-3280308  B099FCVXXD            1.0       INR   301.0   \n",
            "52252  407-7800701-7784323  B09K3T3BV4            1.0       INR  1099.0   \n",
            "52253       407-7927422-61         NaN            NaN       NaN     NaN   \n",
            "\n",
            "      Passenger_Pickup  Destination Postel_Code  Pin_Availability  \n",
            "0               MUMBAI  MAHARASHTRA    400081.0             False  \n",
            "1            BENGALURU    KARNATAKA    560085.0             False  \n",
            "2          NAVI MUMBAI  MAHARASHTRA    410210.0              True  \n",
            "3           PUDUCHERRY   PUDUCHERRY    605008.0             False  \n",
            "4              CHENNAI   TAMIL NADU    600073.0             False  \n",
            "...                ...          ...         ...               ...  \n",
            "52249         GUWAHATI        ASSAM    781006.0             False  \n",
            "52250      Bahadurgarh      HARYANA    124507.0             False  \n",
            "52251         TUMAKURU    KARNATAKA    572102.0             False  \n",
            "52252          CUTTACK       ODISHA    754032.0             False  \n",
            "52253              NaN          NaN         NaN               NaN  \n",
            "\n",
            "[52254 rows x 26 columns]>\n"
          ]
        }
      ]
    },
    {
      "cell_type": "code",
      "source": [
        "# Create target variable for classification (1 if next day's closing price is higher, 0 otherwise)\n",
        "data['Target'] = (data['Travel_Ticket_Pin_ID'].shift(-1) > data['Travel_Ticket_Pin_ID']).astype(int)"
      ],
      "metadata": {
        "id": "bx7jeP9c4f_5"
      },
      "execution_count": 43,
      "outputs": []
    },
    {
      "cell_type": "code",
      "source": [
        "# Drop rows with NaN values\n",
        "data.dropna(inplace=True)"
      ],
      "metadata": {
        "id": "cHEGLJ1X4h4F"
      },
      "execution_count": 44,
      "outputs": []
    },
    {
      "cell_type": "code",
      "source": [
        "# Gathering the Companies Strategies Information\n",
        "scaler = StandardScaler()\n",
        "scaled_data = scaler.fit_transform(data[['Travel_Ticket_Pin_ID', 'Travel_Administration', 'Travel_Location_Spend', 'Postel_Code']])\n",
        "print(scaled_data)"
      ],
      "metadata": {
        "colab": {
          "base_uri": "https://localhost:8080/"
        },
        "id": "hNEfLjNQmBiY",
        "outputId": "439d551e-31cd-4bdf-e195-5923c6642d43"
      },
      "execution_count": 47,
      "outputs": [
        {
          "output_type": "stream",
          "name": "stdout",
          "text": [
            "[[-3.31230284 -6.04527784  7.43509899 -0.33267423]\n",
            " [-3.31278324 -5.62053337  6.18626171  0.49125446]\n",
            " [-3.31454473 -7.09399773  4.57560422 -0.2805157 ]\n",
            " ...\n",
            " [ 1.47174279  0.87752893  1.21711197 -1.75172204]\n",
            " [ 1.47179617  0.87755827  1.21715676  0.5531351 ]\n",
            " [ 1.47184955  0.8775876   1.21720154  1.4899701 ]]\n"
          ]
        }
      ]
    },
    {
      "cell_type": "code",
      "source": [
        "# Create features and target variable\n",
        "X = scaled_data[:, :-1]\n",
        "y = data['Target'].values"
      ],
      "metadata": {
        "id": "Q2FbfEIF4uiI"
      },
      "execution_count": 48,
      "outputs": []
    },
    {
      "cell_type": "code",
      "source": [
        "print(type(X))\n",
        "print(type(y))"
      ],
      "metadata": {
        "colab": {
          "base_uri": "https://localhost:8080/"
        },
        "id": "GalB4G2GUiIJ",
        "outputId": "4e4a556e-54b5-43e4-bea3-d5018f8d0131"
      },
      "execution_count": 49,
      "outputs": [
        {
          "output_type": "stream",
          "name": "stdout",
          "text": [
            "<class 'numpy.ndarray'>\n",
            "<class 'numpy.ndarray'>\n"
          ]
        }
      ]
    },
    {
      "cell_type": "code",
      "source": [
        "# Split the data into training and testing sets\n",
        "X_train, X_test, y_train, y_test = train_test_split(X, y, test_size=0.5, random_state=25)"
      ],
      "metadata": {
        "id": "TC_srqexNyQU"
      },
      "execution_count": 50,
      "outputs": []
    },
    {
      "cell_type": "code",
      "source": [
        "print(X_train)"
      ],
      "metadata": {
        "colab": {
          "base_uri": "https://localhost:8080/"
        },
        "id": "07uEc9uhN1c3",
        "outputId": "4c1a4ed2-cbc5-47eb-a932-ad86e5cd6cb4"
      },
      "execution_count": 51,
      "outputs": [
        {
          "output_type": "stream",
          "name": "stdout",
          "text": [
            "[[ 0.06842274  0.1063596   0.0397072 ]\n",
            " [ 0.05918826  0.10128496  0.03195935]\n",
            " [-0.86196404 -0.40491775 -0.74090007]\n",
            " ...\n",
            " [-0.96402368 -0.46100279 -0.82652951]\n",
            " [ 0.01152129  0.07509043 -0.0080339 ]\n",
            " [ 0.27489067  0.21982034  0.21293663]]\n"
          ]
        }
      ]
    },
    {
      "cell_type": "code",
      "source": [
        "# Decision Tree\n",
        "dt_model = DecisionTreeClassifier()\n",
        "dt_model.fit(X_train, y_train)\n",
        "dt_predictions = dt_model.predict(X_test)\n",
        "dt_accuracy = accuracy_score(y_test, dt_predictions)\n",
        "print(f'Decision Tree Accuracy: {dt_accuracy}')"
      ],
      "metadata": {
        "id": "6aYm4hucN6sO",
        "colab": {
          "base_uri": "https://localhost:8080/"
        },
        "outputId": "a588fa0a-659e-4345-a9b1-5184500ce3b1"
      },
      "execution_count": 52,
      "outputs": [
        {
          "output_type": "stream",
          "name": "stdout",
          "text": [
            "Decision Tree Accuracy: 0.9752746201247752\n"
          ]
        }
      ]
    },
    {
      "cell_type": "code",
      "source": [
        "# Random Forest\n",
        "rf_model = RandomForestClassifier()\n",
        "rf_model.fit(X_train, y_train)\n",
        "rf_predictions = rf_model.predict(X_test)\n",
        "rf_accuracy = accuracy_score(y_test, rf_predictions)\n",
        "print(f'Random Forest Accuracy: {rf_accuracy}')"
      ],
      "metadata": {
        "id": "S3qK-nD0N-ku",
        "colab": {
          "base_uri": "https://localhost:8080/"
        },
        "outputId": "038edc41-c0b9-4dee-b959-979f02500373"
      },
      "execution_count": 53,
      "outputs": [
        {
          "output_type": "stream",
          "name": "stdout",
          "text": [
            "Random Forest Accuracy: 0.9750066980518238\n"
          ]
        }
      ]
    },
    {
      "cell_type": "code",
      "source": [
        "# Logistic Regression\n",
        "lr_model = LogisticRegression()\n",
        "lr_model.fit(X_train, y_train)\n",
        "lr_predictions = lr_model.predict(X_test)\n",
        "lr_accuracy = accuracy_score(y_test, lr_predictions)\n",
        "print(f'Logistic Regression Accuracy: {lr_accuracy}')"
      ],
      "metadata": {
        "id": "4zgao2P-OBpH",
        "colab": {
          "base_uri": "https://localhost:8080/"
        },
        "outputId": "67cbd841-97d3-4744-af9d-b3fe3a8084ec"
      },
      "execution_count": 54,
      "outputs": [
        {
          "output_type": "stream",
          "name": "stdout",
          "text": [
            "Logistic Regression Accuracy: 0.9740115589237187\n"
          ]
        }
      ]
    },
    {
      "cell_type": "code",
      "source": [
        "# Support Vector Machine (SVM)\n",
        "svm_model = SVC()\n",
        "svm_model.fit(X_train, y_train)\n",
        "svm_predictions = svm_model.predict(X_test)\n",
        "svm_accuracy = accuracy_score(y_test, svm_predictions)\n",
        "print(f'SVM Accuracy: {svm_accuracy}')"
      ],
      "metadata": {
        "id": "joU5K8sFOEZc",
        "colab": {
          "base_uri": "https://localhost:8080/"
        },
        "outputId": "87ea39e9-9782-47fd-dbc8-5a9204cdaad7"
      },
      "execution_count": 55,
      "outputs": [
        {
          "output_type": "stream",
          "name": "stdout",
          "text": [
            "SVM Accuracy: 0.9751980709610748\n"
          ]
        }
      ]
    },
    {
      "cell_type": "code",
      "source": [
        "# Generate data\n",
        "tickets = np.random.randint(0, 100, (1000, 10))\n",
        "pins = np.random.randint(0, 10, (1000, 4))\n",
        "\n",
        "# Normalize data\n",
        "tickets = tickets / 100\n",
        "pins = pins / 10\n",
        "\n",
        "# Split data into train and test sets\n",
        "split = int(0.8 * len(tickets))\n",
        "train_tickets, test_tickets = tickets[:split], tickets[split:]\n",
        "train_pins, test_pins = pins[:split], pins[split:]\n",
        "\n",
        "# Define RNN model\n",
        "model = Sequential([\n",
        "    LSTM(32, input_shape=(train_tickets.shape[1], 1)),\n",
        "    Dense(16, activation='relu'),\n",
        "    Dense(4, activation='softmax')\n",
        "])\n",
        "\n",
        "model.compile(optimizer='adam', loss='categorical_crossentropy', metrics=['accuracy'])\n",
        "\n",
        "# Reshape data for RNN input\n",
        "train_tickets = train_tickets.reshape((train_tickets.shape[0], train_tickets.shape[1], 1))\n",
        "test_tickets = test_tickets.reshape((test_tickets.shape[0], test_tickets.shape[1], 1))\n",
        "\n",
        "# Train model\n",
        "model.fit(train_tickets, train_pins, epochs=10, batch_size=32, validation_data=(test_tickets, test_pins))\n",
        "\n",
        "# Evaluate model\n",
        "loss, accuracy = model.evaluate(test_tickets, test_pins)\n",
        "print(\"Test Loss:\", loss)\n",
        "print(\"Test Accuracy:\", accuracy)"
      ],
      "metadata": {
        "colab": {
          "base_uri": "https://localhost:8080/"
        },
        "id": "XylFuqqvgXCN",
        "outputId": "d6b39ee0-cebf-4721-c12a-1075be78f9e4"
      },
      "execution_count": 56,
      "outputs": [
        {
          "output_type": "stream",
          "name": "stdout",
          "text": [
            "Epoch 1/10\n",
            "25/25 [==============================] - 3s 29ms/step - loss: 2.5199 - accuracy: 0.2862 - val_loss: 2.5791 - val_accuracy: 0.3200\n",
            "Epoch 2/10\n",
            "25/25 [==============================] - 0s 6ms/step - loss: 2.5617 - accuracy: 0.2875 - val_loss: 2.6940 - val_accuracy: 0.3200\n",
            "Epoch 3/10\n",
            "25/25 [==============================] - 0s 7ms/step - loss: 2.7184 - accuracy: 0.2875 - val_loss: 2.8760 - val_accuracy: 0.3200\n",
            "Epoch 4/10\n",
            "25/25 [==============================] - 0s 7ms/step - loss: 2.8650 - accuracy: 0.2875 - val_loss: 3.0132 - val_accuracy: 0.3200\n",
            "Epoch 5/10\n",
            "25/25 [==============================] - 0s 7ms/step - loss: 2.9915 - accuracy: 0.2875 - val_loss: 3.1240 - val_accuracy: 0.3200\n",
            "Epoch 6/10\n",
            "25/25 [==============================] - 0s 6ms/step - loss: 3.0440 - accuracy: 0.2875 - val_loss: 3.2129 - val_accuracy: 0.3200\n",
            "Epoch 7/10\n",
            "25/25 [==============================] - 0s 6ms/step - loss: 3.1502 - accuracy: 0.2875 - val_loss: 3.3047 - val_accuracy: 0.3200\n",
            "Epoch 8/10\n",
            "25/25 [==============================] - 0s 6ms/step - loss: 3.2256 - accuracy: 0.2875 - val_loss: 3.3343 - val_accuracy: 0.3200\n",
            "Epoch 9/10\n",
            "25/25 [==============================] - 0s 7ms/step - loss: 3.2188 - accuracy: 0.2875 - val_loss: 3.3259 - val_accuracy: 0.3200\n",
            "Epoch 10/10\n",
            "25/25 [==============================] - 0s 7ms/step - loss: 3.2281 - accuracy: 0.2875 - val_loss: 3.3472 - val_accuracy: 0.3200\n",
            "7/7 [==============================] - 0s 4ms/step - loss: 3.3472 - accuracy: 0.3200\n",
            "Test Loss: 3.347203016281128\n",
            "Test Accuracy: 0.3199999928474426\n"
          ]
        }
      ]
    },
    {
      "cell_type": "code",
      "source": [
        "# K-Nearest Neighbors (KNN)\n",
        "knn_classifier = KNeighborsClassifier()\n",
        "knn_classifier.fit(X_train, y_train)\n",
        "knn_predictions = knn_classifier.predict(X_test)\n",
        "print(knn_predictions)"
      ],
      "metadata": {
        "id": "LnRbQUw-OG33",
        "colab": {
          "base_uri": "https://localhost:8080/"
        },
        "outputId": "c3445434-a6fd-4f3a-9c1d-81bba6dc87f1"
      },
      "execution_count": 57,
      "outputs": [
        {
          "output_type": "stream",
          "name": "stdout",
          "text": [
            "[1 1 1 ... 1 1 1]\n"
          ]
        }
      ]
    },
    {
      "cell_type": "code",
      "source": [
        "# Neural Network using TensorFlow\n",
        "model = Sequential()\n",
        "model.add(Dense(64, input_dim=X_train.shape[1], activation='relu'))\n",
        "model.add(Dense(1, activation='sigmoid'))\n",
        "model.compile(optimizer='adam', loss='binary_crossentropy', metrics=['accuracy'])\n",
        "model.fit(X_train, y_train, epochs=20, batch_size=32, validation_data=(X_test, y_test))\n",
        "nn_predictions = (model.predict(X_test) > 0.5).astype(int).flatten()\n",
        "nn_accuracy = accuracy_score(y_test, nn_predictions)\n",
        "print(f'Neural Network Accuracy: {nn_accuracy}')"
      ],
      "metadata": {
        "id": "sWt0WlZU52g8",
        "colab": {
          "base_uri": "https://localhost:8080/"
        },
        "outputId": "5e7e8c0c-071b-42ba-b0e8-edcae801fba8"
      },
      "execution_count": 58,
      "outputs": [
        {
          "output_type": "stream",
          "name": "stdout",
          "text": [
            "Epoch 1/20\n",
            "817/817 [==============================] - 4s 4ms/step - loss: 0.1491 - accuracy: 0.9627 - val_loss: 0.0555 - val_accuracy: 0.9754\n",
            "Epoch 2/20\n",
            "817/817 [==============================] - 2s 3ms/step - loss: 0.0524 - accuracy: 0.9752 - val_loss: 0.0507 - val_accuracy: 0.9753\n",
            "Epoch 3/20\n",
            "817/817 [==============================] - 2s 3ms/step - loss: 0.0505 - accuracy: 0.9745 - val_loss: 0.0500 - val_accuracy: 0.9740\n",
            "Epoch 4/20\n",
            "817/817 [==============================] - 3s 3ms/step - loss: 0.0494 - accuracy: 0.9747 - val_loss: 0.0484 - val_accuracy: 0.9760\n",
            "Epoch 5/20\n",
            "817/817 [==============================] - 3s 3ms/step - loss: 0.0482 - accuracy: 0.9742 - val_loss: 0.0497 - val_accuracy: 0.9728\n",
            "Epoch 6/20\n",
            "817/817 [==============================] - 3s 4ms/step - loss: 0.0473 - accuracy: 0.9749 - val_loss: 0.0463 - val_accuracy: 0.9731\n",
            "Epoch 7/20\n",
            "817/817 [==============================] - 3s 3ms/step - loss: 0.0463 - accuracy: 0.9739 - val_loss: 0.0453 - val_accuracy: 0.9754\n",
            "Epoch 8/20\n",
            "817/817 [==============================] - 2s 3ms/step - loss: 0.0453 - accuracy: 0.9739 - val_loss: 0.0451 - val_accuracy: 0.9741\n",
            "Epoch 9/20\n",
            "817/817 [==============================] - 3s 3ms/step - loss: 0.0447 - accuracy: 0.9746 - val_loss: 0.0437 - val_accuracy: 0.9739\n",
            "Epoch 10/20\n",
            "817/817 [==============================] - 4s 5ms/step - loss: 0.0439 - accuracy: 0.9746 - val_loss: 0.0426 - val_accuracy: 0.9748\n",
            "Epoch 11/20\n",
            "817/817 [==============================] - 3s 3ms/step - loss: 0.0434 - accuracy: 0.9751 - val_loss: 0.0431 - val_accuracy: 0.9736\n",
            "Epoch 12/20\n",
            "817/817 [==============================] - 2s 3ms/step - loss: 0.0427 - accuracy: 0.9737 - val_loss: 0.0426 - val_accuracy: 0.9747\n",
            "Epoch 13/20\n",
            "817/817 [==============================] - 3s 3ms/step - loss: 0.0424 - accuracy: 0.9751 - val_loss: 0.0418 - val_accuracy: 0.9760\n",
            "Epoch 14/20\n",
            "817/817 [==============================] - 3s 3ms/step - loss: 0.0423 - accuracy: 0.9737 - val_loss: 0.0412 - val_accuracy: 0.9724\n",
            "Epoch 15/20\n",
            "817/817 [==============================] - 3s 3ms/step - loss: 0.0419 - accuracy: 0.9740 - val_loss: 0.0405 - val_accuracy: 0.9739\n",
            "Epoch 16/20\n",
            "817/817 [==============================] - 3s 3ms/step - loss: 0.0413 - accuracy: 0.9752 - val_loss: 0.0410 - val_accuracy: 0.9731\n",
            "Epoch 17/20\n",
            "817/817 [==============================] - 3s 3ms/step - loss: 0.0411 - accuracy: 0.9742 - val_loss: 0.0401 - val_accuracy: 0.9758\n",
            "Epoch 18/20\n",
            "817/817 [==============================] - 3s 3ms/step - loss: 0.0413 - accuracy: 0.9748 - val_loss: 0.0410 - val_accuracy: 0.9728\n",
            "Epoch 19/20\n",
            "817/817 [==============================] - 3s 4ms/step - loss: 0.0409 - accuracy: 0.9743 - val_loss: 0.0396 - val_accuracy: 0.9756\n",
            "Epoch 20/20\n",
            "817/817 [==============================] - 3s 3ms/step - loss: 0.0406 - accuracy: 0.9743 - val_loss: 0.0398 - val_accuracy: 0.9756\n",
            "817/817 [==============================] - 1s 1ms/step\n",
            "Neural Network Accuracy: 0.9756190913614269\n"
          ]
        }
      ]
    },
    {
      "cell_type": "code",
      "source": [
        "# Deep Learning with Keras\n",
        "model = Sequential()\n",
        "model.add(Dense(units=64, activation='relu', input_dim=X_train.shape[1]))\n",
        "model.add(Dense(units=32, activation='relu'))\n",
        "model.add(Dense(units=1, activation='sigmoid'))\n",
        "model.compile(optimizer='adam', loss='binary_crossentropy', metrics=['accuracy'])\n",
        "model.fit(X_train, y_train, epochs=10, batch_size=32, verbose=1)\n",
        "dl_predictions = (model.predict(X_test) > 0.5).astype(int).flatten()\n",
        "dl_accuracy = accuracy_score(y_test, dl_predictions)\n",
        "print(f'DL Accuracy: {dl_accuracy}')"
      ],
      "metadata": {
        "id": "kobdVdf9OJdV",
        "colab": {
          "base_uri": "https://localhost:8080/"
        },
        "outputId": "94d89432-4dde-40ec-a22e-2abe422db90c"
      },
      "execution_count": 59,
      "outputs": [
        {
          "output_type": "stream",
          "name": "stdout",
          "text": [
            "Epoch 1/10\n",
            "817/817 [==============================] - 3s 2ms/step - loss: 0.0989 - accuracy: 0.9737\n",
            "Epoch 2/10\n",
            "817/817 [==============================] - 1s 2ms/step - loss: 0.0497 - accuracy: 0.9736\n",
            "Epoch 3/10\n",
            "817/817 [==============================] - 2s 3ms/step - loss: 0.0463 - accuracy: 0.9735\n",
            "Epoch 4/10\n",
            "817/817 [==============================] - 2s 2ms/step - loss: 0.0437 - accuracy: 0.9747\n",
            "Epoch 5/10\n",
            "817/817 [==============================] - 1s 2ms/step - loss: 0.0424 - accuracy: 0.9742\n",
            "Epoch 6/10\n",
            "817/817 [==============================] - 1s 2ms/step - loss: 0.0411 - accuracy: 0.9742\n",
            "Epoch 7/10\n",
            "817/817 [==============================] - 1s 2ms/step - loss: 0.0404 - accuracy: 0.9737\n",
            "Epoch 8/10\n",
            "817/817 [==============================] - 1s 2ms/step - loss: 0.0397 - accuracy: 0.9749\n",
            "Epoch 9/10\n",
            "817/817 [==============================] - 1s 2ms/step - loss: 0.0397 - accuracy: 0.9734\n",
            "Epoch 10/10\n",
            "817/817 [==============================] - 1s 2ms/step - loss: 0.0392 - accuracy: 0.9741\n",
            "817/817 [==============================] - 1s 1ms/step\n",
            "DL Accuracy: 0.973858460596318\n"
          ]
        }
      ]
    },
    {
      "cell_type": "code",
      "source": [
        "# Evaluation\n",
        "print(\"Random Forest Classifier Accuracy:\", accuracy_score(y_test, rf_predictions))\n",
        "print(\"Logistic Regression Accuracy:\", accuracy_score(y_test, lr_predictions))\n",
        "print(\"SVM Accuracy:\", accuracy_score(y_test, svm_predictions))\n",
        "print(\"KNN Accuracy:\", accuracy_score(y_test, knn_predictions))\n",
        "print(\"Deep Learning Accuracy:\", accuracy_score(y_test, dl_predictions))\n",
        "print(f'Decision Tree Accuracy: {dt_accuracy}')\n",
        "print(\"DL Accuracy:\", accuracy_score(y_test, dl_predictions))"
      ],
      "metadata": {
        "id": "iHJ1rD4_OOCB",
        "colab": {
          "base_uri": "https://localhost:8080/"
        },
        "outputId": "2b75d04e-bb96-4378-96ed-798f0063434e"
      },
      "execution_count": 60,
      "outputs": [
        {
          "output_type": "stream",
          "name": "stdout",
          "text": [
            "Random Forest Classifier Accuracy: 0.9750066980518238\n",
            "Logistic Regression Accuracy: 0.9740115589237187\n",
            "SVM Accuracy: 0.9751980709610748\n",
            "KNN Accuracy: 0.9741646572511196\n",
            "Deep Learning Accuracy: 0.973858460596318\n",
            "Decision Tree Accuracy: 0.9752746201247752\n",
            "DL Accuracy: 0.973858460596318\n"
          ]
        }
      ]
    },
    {
      "cell_type": "code",
      "source": [
        "# Confusion Matrix :\n",
        "print(\"\\nConfusion Matrix for #RandomForestClassifier:\")\n",
        "print(confusion_matrix(y_test, rf_predictions))"
      ],
      "metadata": {
        "id": "XoidlIFkOVBv",
        "colab": {
          "base_uri": "https://localhost:8080/"
        },
        "outputId": "d493acde-8ae1-469f-86c3-747d51cf6d38"
      },
      "execution_count": 61,
      "outputs": [
        {
          "output_type": "stream",
          "name": "stdout",
          "text": [
            "\n",
            "Confusion Matrix for #RandomForestClassifier:\n",
            "[[  305   326]\n",
            " [  327 25169]]\n"
          ]
        }
      ]
    },
    {
      "cell_type": "code",
      "source": [
        "# Confusion Matrix :\n",
        "print(\"\\nConfusion Matrix for #Logistic Regression :\")\n",
        "print(confusion_matrix(y_test, lr_predictions))"
      ],
      "metadata": {
        "id": "7qz3tSPCOXzv",
        "colab": {
          "base_uri": "https://localhost:8080/"
        },
        "outputId": "bd2aca1a-e020-4142-b2af-f1d542ee2c4a"
      },
      "execution_count": 62,
      "outputs": [
        {
          "output_type": "stream",
          "name": "stdout",
          "text": [
            "\n",
            "Confusion Matrix for #Logistic Regression :\n",
            "[[  210   421]\n",
            " [  258 25238]]\n"
          ]
        }
      ]
    },
    {
      "cell_type": "code",
      "source": [
        "# Confusion Matrix :\n",
        "print(\"\\nConfusion Matrix for #Support Vector Machine:\")\n",
        "print(confusion_matrix(y_test, svm_predictions))"
      ],
      "metadata": {
        "id": "tM3B861gOaj8",
        "colab": {
          "base_uri": "https://localhost:8080/"
        },
        "outputId": "687da98f-2b5d-4933-f160-5afdcf5dddc4"
      },
      "execution_count": 63,
      "outputs": [
        {
          "output_type": "stream",
          "name": "stdout",
          "text": [
            "\n",
            "Confusion Matrix for #Support Vector Machine:\n",
            "[[   51   580]\n",
            " [   68 25428]]\n"
          ]
        }
      ]
    },
    {
      "cell_type": "code",
      "source": [
        "# Confusion Matrix :\n",
        "print(\"\\nConfusion Matrix for #KNeighborsClassifier:\")\n",
        "print(confusion_matrix(y_test, knn_predictions))"
      ],
      "metadata": {
        "id": "0OskEJOFOdXf",
        "colab": {
          "base_uri": "https://localhost:8080/"
        },
        "outputId": "efe27215-5b4b-4ca8-d061-7cffb33bb196"
      },
      "execution_count": 64,
      "outputs": [
        {
          "output_type": "stream",
          "name": "stdout",
          "text": [
            "\n",
            "Confusion Matrix for #KNeighborsClassifier:\n",
            "[[  298   333]\n",
            " [  342 25154]]\n"
          ]
        }
      ]
    },
    {
      "cell_type": "code",
      "source": [
        "# Splitting the dataset into the Training set and Test set\n",
        "X_train, X_test, y_train, y_test = train_test_split(X, y, test_size=0.4, random_state=54)\n",
        "# Feature Scaling\n",
        "sc = StandardScaler()\n",
        "X_train = sc.fit_transform(X_train)\n",
        "X_test = sc.transform(X_test)\n",
        "print(X_test)"
      ],
      "metadata": {
        "id": "c9dNoBS7pfpa",
        "colab": {
          "base_uri": "https://localhost:8080/"
        },
        "outputId": "4061adc7-a2a9-4278-b0cf-a60ca6161471"
      },
      "execution_count": 65,
      "outputs": [
        {
          "output_type": "stream",
          "name": "stdout",
          "text": [
            "[[-0.76206989 -0.35685523 -0.67181005]\n",
            " [-3.02183875 -0.63012379 -1.09144349]\n",
            " [-0.62041866 -0.27813553 -0.55092742]\n",
            " ...\n",
            " [-1.17597467 -0.58687415 -1.02502899]\n",
            " [-0.65957254 -0.29989447 -0.58434064]\n",
            " [-0.33266446 -0.11822215 -0.30536313]]\n"
          ]
        }
      ]
    },
    {
      "cell_type": "code",
      "source": [
        "'''Implement and train SVM model'''\n",
        "svm_model = SVC(kernel='linear')\n",
        "svm_model.fit(X_train, y_train)\n",
        "svm_accuracy = svm_model.score(X_test, y_test)\n",
        "print(\"SVM Accuracy:\", svm_accuracy)"
      ],
      "metadata": {
        "id": "e2whAQc_Ojno",
        "colab": {
          "base_uri": "https://localhost:8080/"
        },
        "outputId": "ab44061b-9aa2-4303-9c75-447348737767"
      },
      "execution_count": 66,
      "outputs": [
        {
          "output_type": "stream",
          "name": "stdout",
          "text": [
            "SVM Accuracy: 0.9750263132714573\n"
          ]
        }
      ]
    },
    {
      "cell_type": "code",
      "source": [
        "'''Implement and train CNN model'''\n",
        "\n",
        "X_train_cnn = X_train.reshape(X_train.shape[0], X_train.shape[1], 1)\n",
        "X_test_cnn = X_test.reshape(X_test.shape[0], X_test.shape[1], 1)\n",
        "print(X_train_cnn)\n",
        "print(X_test_cnn)"
      ],
      "metadata": {
        "id": "HhdUkeWzOnJd",
        "colab": {
          "base_uri": "https://localhost:8080/"
        },
        "outputId": "641b789e-c35c-4b53-afbb-915bd1848eb2"
      },
      "execution_count": 67,
      "outputs": [
        {
          "output_type": "stream",
          "name": "stdout",
          "text": [
            "[[[-0.41531669]\n",
            "  [-0.1641544 ]\n",
            "  [-0.37589707]]\n",
            "\n",
            " [[-0.59236732]\n",
            "  [-0.26254658]\n",
            "  [-0.52698891]]\n",
            "\n",
            " [[ 0.66769036]\n",
            "  [ 0.43770411]\n",
            "  [ 0.54832179]]\n",
            "\n",
            " ...\n",
            "\n",
            " [[-0.40491141]\n",
            "  [-0.15837188]\n",
            "  [-0.36701739]]\n",
            "\n",
            " [[ 0.82757764]\n",
            "  [ 0.52655812]\n",
            "  [ 0.68476674]]\n",
            "\n",
            " [[-0.94142684]\n",
            "  [-0.4565291 ]\n",
            "  [-0.82487006]]]\n",
            "[[[-0.76206989]\n",
            "  [-0.35685523]\n",
            "  [-0.67181005]]\n",
            "\n",
            " [[-3.02183875]\n",
            "  [-0.63012379]\n",
            "  [-1.09144349]]\n",
            "\n",
            " [[-0.62041866]\n",
            "  [-0.27813553]\n",
            "  [-0.55092742]]\n",
            "\n",
            " ...\n",
            "\n",
            " [[-1.17597467]\n",
            "  [-0.58687415]\n",
            "  [-1.02502899]]\n",
            "\n",
            " [[-0.65957254]\n",
            "  [-0.29989447]\n",
            "  [-0.58434064]]\n",
            "\n",
            " [[-0.33266446]\n",
            "  [-0.11822215]\n",
            "  [-0.30536313]]]\n"
          ]
        }
      ]
    },
    {
      "cell_type": "code",
      "source": [
        "# Step 6: Visualize the results\n",
        "# Assuming you have predictions from both models\n",
        "svm_predictions = svm_model.predict(X_test)\n",
        "print(svm_predictions)"
      ],
      "metadata": {
        "id": "o2Grcm59OyoA",
        "colab": {
          "base_uri": "https://localhost:8080/"
        },
        "outputId": "a61399ad-be51-4c2c-f2f0-53f65e2271ed"
      },
      "execution_count": 68,
      "outputs": [
        {
          "output_type": "stream",
          "name": "stdout",
          "text": [
            "[1 1 1 ... 1 1 1]\n"
          ]
        }
      ]
    },
    {
      "cell_type": "code",
      "source": [
        "# Plotting SVM predictions\n",
        "plt.figure(figsize=(10, 5))\n",
        "plt.subplot(2, 3, 2)\n",
        "plt.scatter(range(len(y_test)), y_test, label='Actual', color='blue')\n",
        "plt.scatter(range(len(svm_predictions)), svm_predictions, label='Predicted (SVM)', color='red')\n",
        "plt.title('SVM Predictions')\n",
        "plt.legend()"
      ],
      "metadata": {
        "id": "tT8AmgBuO1_a",
        "colab": {
          "base_uri": "https://localhost:8080/",
          "height": 275
        },
        "outputId": "1409a90e-0141-4e96-a6dc-fcd0a5c6cc2a"
      },
      "execution_count": 82,
      "outputs": [
        {
          "output_type": "execute_result",
          "data": {
            "text/plain": [
              "<matplotlib.legend.Legend at 0x7c76eb9990f0>"
            ]
          },
          "metadata": {},
          "execution_count": 82
        },
        {
          "output_type": "display_data",
          "data": {
            "text/plain": [
              "<Figure size 1000x500 with 1 Axes>"
            ],
            "image/png": "[encoded data removed]"
          },
          "metadata": {}
        }
      ]
    },
    {
      "cell_type": "code",
      "source": [
        "# Plotting LR predictions\n",
        "plt.subplot(1, 2, 2)\n",
        "plt.scatter(range(len(y_test)), y_test, label='Actual', color='blue')\n",
        "plt.scatter(range(len(lr_predictions)), lr_predictions, label='Predicted (LR)', color='green')\n",
        "plt.title('LR Predictions')\n",
        "plt.legend()\n",
        "plt.show()"
      ],
      "metadata": {
        "id": "QE-YsqTUO66v",
        "colab": {
          "base_uri": "https://localhost:8080/",
          "height": 452
        },
        "outputId": "03a05b80-afea-4ec6-d569-86a28a58343b"
      },
      "execution_count": 70,
      "outputs": [
        {
          "output_type": "display_data",
          "data": {
            "text/plain": [
              "<Figure size 640x480 with 1 Axes>"
            ],
            "image/png": "[encoded data removed]"
          },
          "metadata": {}
        }
      ]
    },
    {
      "cell_type": "code",
      "source": [
        "# Plotting RF predictions\n",
        "plt.subplot(1, 2, 2)\n",
        "plt.scatter(range(len(y_test)), y_test, label='Actual', color='red')\n",
        "plt.scatter(range(len(rf_predictions)), rf_predictions, label='Predicted (RF)', color='yellow')\n",
        "plt.title('RF Predictions')\n",
        "plt.legend()\n",
        "plt.show()"
      ],
      "metadata": {
        "colab": {
          "base_uri": "https://localhost:8080/",
          "height": 452
        },
        "id": "dkDEn5Mcq_d-",
        "outputId": "30a42fe3-3f48-41cc-fd9d-e40861439126"
      },
      "execution_count": 71,
      "outputs": [
        {
          "output_type": "display_data",
          "data": {
            "text/plain": [
              "<Figure size 640x480 with 1 Axes>"
            ],
            "image/png": "[encoded data removed]"
          },
          "metadata": {}
        }
      ]
    },
    {
      "cell_type": "code",
      "source": [
        "# Plotting DT predictions\n",
        "plt.subplot(1, 2, 2)\n",
        "plt.scatter(range(len(y_test)), y_test, label='Actual', color='green')\n",
        "plt.scatter(range(len(dt_predictions)), dt_predictions, label='Predicted (DT)', color='purple')\n",
        "plt.title('LR Predictions')\n",
        "plt.legend()\n",
        "plt.show()"
      ],
      "metadata": {
        "colab": {
          "base_uri": "https://localhost:8080/",
          "height": 452
        },
        "id": "WpCtB5uTrIp2",
        "outputId": "6dc1d8d0-5602-412e-a3ee-e6f0872345f3"
      },
      "execution_count": 72,
      "outputs": [
        {
          "output_type": "display_data",
          "data": {
            "text/plain": [
              "<Figure size 640x480 with 1 Axes>"
            ],
            "image/png": "[encoded data removed]"
          },
          "metadata": {}
        }
      ]
    },
    {
      "cell_type": "code",
      "source": [
        "# Plotting KNN predictions\n",
        "plt.subplot(1, 2, 2)\n",
        "plt.scatter(range(len(y_test)), y_test, label='Actual', color='blue')\n",
        "plt.scatter(range(len(knn_predictions)), knn_predictions, label='Predicted (KNN)', color='orange')\n",
        "plt.title('KNN Predictions')\n",
        "plt.legend()\n",
        "plt.show()"
      ],
      "metadata": {
        "colab": {
          "base_uri": "https://localhost:8080/",
          "height": 452
        },
        "id": "Obh_M0Vor8cp",
        "outputId": "618d6b51-4492-4ada-ecc4-50ae32fdd514"
      },
      "execution_count": 74,
      "outputs": [
        {
          "output_type": "display_data",
          "data": {
            "text/plain": [
              "<Figure size 640x480 with 1 Axes>"
            ],
            "image/png": "[encoded data removed]"
          },
          "metadata": {}
        }
      ]
    },
    {
      "cell_type": "code",
      "source": [
        "# Plotting DL predictions\n",
        "plt.subplot(1, 2, 2)\n",
        "plt.scatter(range(len(y_test)), y_test, label='Actual', color='green')\n",
        "plt.scatter(range(len(dl_predictions)), dl_predictions, label='Predicted (DL)', color='purple')\n",
        "plt.title('DL Predictions')\n",
        "plt.legend()\n",
        "plt.show()"
      ],
      "metadata": {
        "colab": {
          "base_uri": "https://localhost:8080/",
          "height": 452
        },
        "id": "XXNe-xxhsJ_e",
        "outputId": "3357cdae-015a-49cb-e380-d09714a2f705"
      },
      "execution_count": 75,
      "outputs": [
        {
          "output_type": "display_data",
          "data": {
            "text/plain": [
              "<Figure size 640x480 with 1 Axes>"
            ],
            "image/png": "[encoded data removed]"
          },
          "metadata": {}
        }
      ]
    }
  ]
}